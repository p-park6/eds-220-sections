{
 "cells": [
  {
   "cell_type": "markdown",
   "id": "a1455ee2-106c-42e2-b888-2b94e4b9f17f",
   "metadata": {},
   "source": [
    "This data covers the population changes of the Snowshoe Hare from the 1999-06-01 to 2012-09-14. The population of the hares have declined from 1999. The site was conducted at Tanana valley at Bonanza Creek. This dataset does not contain sensitive information. There is a publication released with this dataset associtated with University of Alaska Fairbanks.\n",
    "\n",
    "![Snowshoe Hare](http://3.bp.blogspot.com/-Y99sUM6JyAw/VHVDqIvqkyI/AAAAAAAAE9w/6ktNmbc0kBg/s1600/p1010862.jpg)\n",
    "\n",
    "Citation: \n",
    "    Kielland, K., F.S. Chapin, R.W. Ruess, and Bonanza Creek LTER. 2017. Snowshoe hare physical data in Bonanza Creek Experimental Forest: 1999-Present ver 22. Environmental Data Initiative. https://doi.org/10.6073/pasta/03dce4856d79b91557d8e6ce2cbcdc14 (Accessed 2023-10-19).\n"
   ]
  },
  {
   "cell_type": "code",
   "execution_count": 9,
   "id": "b05373c6-2dde-4a7e-9e3f-a7f5086a10ac",
   "metadata": {
    "tags": []
   },
   "outputs": [],
   "source": [
    "import pandas as pd\n",
    "\n",
    "hares = pd.read_csv(\"http://www.lter.uaf.edu/php/download_data.php?f=/data_files/ascii/files/55_Hare_Data_2012.txt\")"
   ]
  },
  {
   "cell_type": "code",
   "execution_count": 10,
   "id": "aea4014f-2edc-4178-a5bf-83c1de831b4f",
   "metadata": {
    "tags": []
   },
   "outputs": [
    {
     "data": {
      "text/plain": [
       "F     1161\n",
       "M      730\n",
       "f      556\n",
       "m      515\n",
       "?       40\n",
       "F?      10\n",
       "f        4\n",
       "m        4\n",
       "f?       3\n",
       "M?       2\n",
       "m?       2\n",
       "pf       1\n",
       "Name: sex, dtype: int64"
      ]
     },
     "execution_count": 10,
     "metadata": {},
     "output_type": "execute_result"
    }
   ],
   "source": [
    "#find unique nonNA values for the cex\n",
    "hares.sex.value_counts()"
   ]
  }
 ],
 "metadata": {
  "kernelspec": {
   "display_name": "Anaconda 3 (Base)",
   "language": "python",
   "name": "base"
  },
  "language_info": {
   "codemirror_mode": {
    "name": "ipython",
    "version": 3
   },
   "file_extension": ".py",
   "mimetype": "text/x-python",
   "name": "python",
   "nbconvert_exporter": "python",
   "pygments_lexer": "ipython3",
   "version": "3.9.13"
  }
 },
 "nbformat": 4,
 "nbformat_minor": 5
}
